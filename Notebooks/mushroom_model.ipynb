{
 "cells": [
  {
   "cell_type": "markdown",
   "id": "35c0a42d-e2e0-470e-a456-0448b7d9d943",
   "metadata": {},
   "source": [
    "# Imports"
   ]
  },
  {
   "cell_type": "code",
   "execution_count": 1,
   "id": "918e7432-9e3a-4881-92bd-ba714cedd90c",
   "metadata": {
    "tags": []
   },
   "outputs": [],
   "source": [
    "import pandas as pd\n",
    "import numpy as np\n",
    "import matplotlib.pyplot as plt\n"
   ]
  },
  {
   "cell_type": "code",
   "execution_count": 2,
   "id": "51ecebea-b442-4163-9922-acdd5d0610b2",
   "metadata": {
    "tags": []
   },
   "outputs": [],
   "source": [
    "train0 = pd.read_csv('/Users/merlesteffen/Documents/GitHub/MushroomClassification/Data/train.csv')\n",
    "test0 = pd.read_csv('/Users/merlesteffen/Documents/GitHub/MushroomClassification/Data/test.csv')"
   ]
  },
  {
   "cell_type": "code",
   "execution_count": 5,
   "id": "330c75fd-3ed5-4fb3-8b58-e986c779a5e5",
   "metadata": {
    "tags": []
   },
   "outputs": [],
   "source": [
    "train_id = train0.pop('Id')\n",
    "test_id = test0.pop('Id')\n",
    "target = train0.pop('poisonous')"
   ]
  },
  {
   "cell_type": "code",
   "execution_count": 7,
   "id": "eeb8baa7-83d5-4cf1-87eb-54b0804d46c2",
   "metadata": {
    "tags": []
   },
   "outputs": [
    {
     "data": {
      "text/plain": [
       "cap.shape                 object\n",
       "cap.color                 object\n",
       "bruises                     bool\n",
       "stalk.color.above.ring    object\n",
       "stalk.color.below.ring    object\n",
       "population                object\n",
       "dtype: object"
      ]
     },
     "execution_count": 7,
     "metadata": {},
     "output_type": "execute_result"
    }
   ],
   "source": [
    "train0.dtypes"
   ]
  },
  {
   "cell_type": "markdown",
   "id": "5a2b057f-be4c-40a3-8f66-fd303a4c2bd9",
   "metadata": {
    "tags": []
   },
   "source": [
    "## Missing Values"
   ]
  },
  {
   "cell_type": "markdown",
   "id": "6915e76a-beba-49eb-97b8-4b12e7c10999",
   "metadata": {},
   "source": [
    "No missing values found"
   ]
  },
  {
   "cell_type": "code",
   "execution_count": null,
   "id": "4b89a14b-7beb-438c-b17b-bedd18ce8956",
   "metadata": {},
   "outputs": [],
   "source": []
  },
  {
   "cell_type": "raw",
   "id": "8a61c4d6-90e4-467b-b0a7-26c03448be37",
   "metadata": {},
   "source": []
  }
 ],
 "metadata": {
  "kernelspec": {
   "display_name": "Python 3 (ipykernel)",
   "language": "python",
   "name": "python3"
  },
  "language_info": {
   "codemirror_mode": {
    "name": "ipython",
    "version": 3
   },
   "file_extension": ".py",
   "mimetype": "text/x-python",
   "name": "python",
   "nbconvert_exporter": "python",
   "pygments_lexer": "ipython3",
   "version": "3.11.4"
  }
 },
 "nbformat": 4,
 "nbformat_minor": 5
}
